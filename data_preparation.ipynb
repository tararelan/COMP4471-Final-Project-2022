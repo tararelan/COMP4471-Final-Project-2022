{
 "cells": [
  {
   "cell_type": "code",
   "execution_count": null,
   "metadata": {},
   "outputs": [],
   "source": [
    "import os\n",
    "import cv2\n",
    "import pandas as pd"
   ]
  },
  {
   "cell_type": "code",
   "execution_count": null,
   "metadata": {},
   "outputs": [],
   "source": [
    "tag_df = pd.DataFrame(columns = [\"image\", \"class\"])\n",
    "names = []\n",
    "tags = []"
   ]
  },
  {
   "cell_type": "markdown",
   "metadata": {},
   "source": [
    "Part 1: Extract image frames from .mp4 files."
   ]
  },
  {
   "cell_type": "code",
   "execution_count": null,
   "metadata": {},
   "outputs": [],
   "source": [
    "path = os.getcwd() + '\\\\datasets\\\\videos\\\\'\n",
    "file_names = os.listdir(path)\n",
    "\n",
    "for i in range(len(file_names)):\n",
    "    current_frame = 0\n",
    "    file = path + file_names[i]\n",
    "\n",
    "    cam = cv2.VideoCapture(file)\n",
    "\n",
    "    while (True):\n",
    "        ret, frame = cam.read()\n",
    "        if ret:\n",
    "            name = str((file_names[i].split('.'))[0]) + \\\n",
    "                '_' + str(current_frame) + '.jpg'\n",
    "            cv2.imwrite(name, frame)\n",
    "            current_frame += 1\n",
    "\n",
    "        else:\n",
    "            break"
   ]
  },
  {
   "cell_type": "markdown",
   "metadata": {},
   "source": [
    "Part 2: Assign tags to each image frame"
   ]
  },
  {
   "cell_type": "code",
   "execution_count": null,
   "metadata": {},
   "outputs": [],
   "source": [
    "path = os.getcwd() + '\\\\data'\n",
    "file_names = os.listdir(path)\n",
    "\n",
    "df = pd.read_csv(\"tags.csv\")\n",
    "\n",
    "for i in range(len(df)):\n",
    "    user_input = (file_names[i].split('.'))[0]\n",
    "\n",
    "    for index, row in df.iterrows():\n",
    "        if row[\"video_id\"] == user_input:\n",
    "            tags.append(row[\"gloss\"])\n",
    "            print(user_input, row[\"gloss\"])\n",
    "\n",
    "tag_df[\"class\"] = tags\n",
    "\n",
    "tag_df.to_csv(\"tags.csv\")"
   ]
  },
  {
   "cell_type": "code",
   "execution_count": null,
   "metadata": {},
   "outputs": [],
   "source": [
    "print(tag_df.head())"
   ]
  }
 ],
 "metadata": {
  "kernelspec": {
   "display_name": "Python 3.10.0 ('venv': venv)",
   "language": "python",
   "name": "python3"
  },
  "language_info": {
   "codemirror_mode": {
    "name": "ipython",
    "version": 3
   },
   "file_extension": ".py",
   "mimetype": "text/x-python",
   "name": "python",
   "nbconvert_exporter": "python",
   "pygments_lexer": "ipython3",
   "version": "3.10.0"
  },
  "orig_nbformat": 4,
  "vscode": {
   "interpreter": {
    "hash": "b99b18cb7d016ce9774bde129833a793e43d4683a0b08b94d66ccdb0b010e646"
   }
  }
 },
 "nbformat": 4,
 "nbformat_minor": 2
}
